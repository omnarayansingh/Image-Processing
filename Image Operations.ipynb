{
 "cells": [
  {
   "cell_type": "code",
   "execution_count": 19,
   "id": "632039c4",
   "metadata": {},
   "outputs": [],
   "source": [
    "import cv2\n",
    "\n",
    "img = cv2.imread(r\"C:\\Users\\Lenovo\\Desktop\\img\\Honey\\daburhoney.jpg\")\n",
    "img = cv2.resize(img, (1200,700))\n",
    "img = cv2.line(img,(0,0), (200,200), (13,13,222), 8)\n",
    "img = cv2.arrowedLine(img,(0,125), (200,200), (154,92,255), 8)\n",
    "img = cv2.rectangle(img, (384,10), (510,128), (128,0,255), 8)\n",
    "img = cv2.circle(img, (447,125), 62, (128,0,255), 8)\n",
    "font = cv2.FONT_HERSHEY_COMPLEX\n",
    "img = cv2.putText(img, \"Thor\",(20,500), font, 4, (122,222,123), 10, cv2.LINE_AA)\n",
    "\n",
    "cv2.imshow(\"original\",img)\n",
    "cv2.waitKey(0)\n",
    "cv2.destroyAllWindows()"
   ]
  },
  {
   "cell_type": "code",
   "execution_count": null,
   "id": "e53cd368",
   "metadata": {},
   "outputs": [],
   "source": []
  },
  {
   "cell_type": "code",
   "execution_count": null,
   "id": "2e5ebc8b",
   "metadata": {},
   "outputs": [],
   "source": []
  }
 ],
 "metadata": {
  "kernelspec": {
   "display_name": "Python 3 (ipykernel)",
   "language": "python",
   "name": "python3"
  },
  "language_info": {
   "codemirror_mode": {
    "name": "ipython",
    "version": 3
   },
   "file_extension": ".py",
   "mimetype": "text/x-python",
   "name": "python",
   "nbconvert_exporter": "python",
   "pygments_lexer": "ipython3",
   "version": "3.7.13"
  }
 },
 "nbformat": 4,
 "nbformat_minor": 5
}

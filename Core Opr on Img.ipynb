{
 "cells": [
  {
   "cell_type": "code",
   "execution_count": 1,
   "id": "c84ba7f3",
   "metadata": {},
   "outputs": [
    {
     "ename": "ModuleNotFoundError",
     "evalue": "No module named 'cv2'",
     "output_type": "error",
     "traceback": [
      "\u001b[1;31m---------------------------------------------------------------------------\u001b[0m",
      "\u001b[1;31mModuleNotFoundError\u001b[0m                       Traceback (most recent call last)",
      "Input \u001b[1;32mIn [1]\u001b[0m, in \u001b[0;36m<cell line: 1>\u001b[1;34m()\u001b[0m\n\u001b[1;32m----> 1\u001b[0m \u001b[38;5;28;01mimport\u001b[39;00m \u001b[38;5;21;01mcv2\u001b[39;00m \n\u001b[0;32m      3\u001b[0m img \u001b[38;5;241m=\u001b[39m cv2\u001b[38;5;241m.\u001b[39mimread(\u001b[38;5;124mr\u001b[39m\u001b[38;5;124m\"\u001b[39m\u001b[38;5;124mC:\u001b[39m\u001b[38;5;124m\\\u001b[39m\u001b[38;5;124mUsers\u001b[39m\u001b[38;5;124m\\\u001b[39m\u001b[38;5;124mLenovo\u001b[39m\u001b[38;5;124m\\\u001b[39m\u001b[38;5;124mDesktop\u001b[39m\u001b[38;5;124m\\\u001b[39m\u001b[38;5;124mom\u001b[39m\u001b[38;5;124m\\\u001b[39m\u001b[38;5;124mlearning\u001b[39m\u001b[38;5;124m\\\u001b[39m\u001b[38;5;124mopencv\u001b[39m\u001b[38;5;124m\\\u001b[39m\u001b[38;5;124mforest.jpg\u001b[39m\u001b[38;5;124m\"\u001b[39m)\n\u001b[0;32m      4\u001b[0m img \u001b[38;5;241m=\u001b[39m cv2\u001b[38;5;241m.\u001b[39mresize(img,(\u001b[38;5;241m600\u001b[39m,\u001b[38;5;241m400\u001b[39m))\n",
      "\u001b[1;31mModuleNotFoundError\u001b[0m: No module named 'cv2'"
     ]
    }
   ],
   "source": [
    "import cv2 \n",
    "\n",
    "img = cv2.imread(r\"C:\\Users\\Lenovo\\Desktop\\om\\learning\\opencv\\forest.jpg\")\n",
    "img = cv2.resize(img,(600,400))\n",
    "print(\"Shape ==\", img.shape)\n",
    "print(\"Pixels ==\", img.size)\n",
    "print(\"DataType ==\", img.dtype)\n",
    "print(\"ImageType ==\", type(img))\n",
    "\n",
    "print(cv2.split(img))\n",
    "\n",
    "b ,g ,r = cv2.split(img)\n",
    "#cv2.imshow(\"blue\",b)\n",
    "#cv2.imshow(\"green\",g)\n",
    "#cv2.imshow(\"red\",r)\n",
    "mr1 = cv2.merge((r,g,b))\n",
    "cv2.imshow(\"rgb\",mr1)\n",
    "\n",
    "mr2 = cv2.merge((g,b,r))\n",
    "cv2.imshow(\"gbr\",mr2)\n",
    "\n",
    "mr3 = cv2.merge((b,g,r))\n",
    "cv2.imshow(\"bgr\",mr3)\n",
    "\n",
    "\n",
    "cv2.imshow(\"o\",img)\n",
    "cv2.waitKey()\n",
    "cv2.destroyAllWindows"
   ]
  },
  {
   "cell_type": "code",
   "execution_count": null,
   "id": "c2163dda",
   "metadata": {},
   "outputs": [],
   "source": []
  }
 ],
 "metadata": {
  "kernelspec": {
   "display_name": "Python 3 (ipykernel)",
   "language": "python",
   "name": "python3"
  },
  "language_info": {
   "codemirror_mode": {
    "name": "ipython",
    "version": 3
   },
   "file_extension": ".py",
   "mimetype": "text/x-python",
   "name": "python",
   "nbconvert_exporter": "python",
   "pygments_lexer": "ipython3",
   "version": "3.9.12"
  }
 },
 "nbformat": 4,
 "nbformat_minor": 5
}

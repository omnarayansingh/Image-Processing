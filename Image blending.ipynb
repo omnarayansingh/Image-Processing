{
 "cells": [
  {
   "cell_type": "code",
   "execution_count": 8,
   "id": "e104fea2",
   "metadata": {},
   "outputs": [
    {
     "data": {
      "text/plain": [
       "<function destroyAllWindows>"
      ]
     },
     "execution_count": 8,
     "metadata": {},
     "output_type": "execute_result"
    }
   ],
   "source": [
    "import cv2 \n",
    "\n",
    "img1 = cv2.imread(r\"C:\\Users\\Lenovo\\Desktop\\om\\learning\\opencv\\forest.jpg\")\n",
    "img1 = cv2.resize(img1,(600,400))\n",
    "\n",
    "img2 = cv2.imread(r\"C:\\Users\\Lenovo\\Desktop\\img\\Honey\\daburhoney.jpg\")\n",
    "img2 = cv2.resize(img2,(600,400))\n",
    "\n",
    "#cv2.imshow(\"o\",img1)\n",
    "#cv2.imshow(\"h\",img2)\n",
    "#result = img2 + img1\n",
    "#cv2.imshow(\"q\", result)\n",
    "#result1 = cv2.add(img1,img2)\n",
    "#cv2.imshow(\"qr\", result1)\n",
    "result2 = cv2.addWeighted(img1,0.3,img2,0.7,0)\n",
    "cv2.imshow(\"qr\", result2)\n",
    "cv2.waitKey()\n",
    "cv2.destroyAllWindows"
   ]
  },
  {
   "cell_type": "code",
   "execution_count": null,
   "id": "43dd613c",
   "metadata": {},
   "outputs": [],
   "source": []
  }
 ],
 "metadata": {
  "kernelspec": {
   "display_name": "Python 3 (ipykernel)",
   "language": "python",
   "name": "python3"
  },
  "language_info": {
   "codemirror_mode": {
    "name": "ipython",
    "version": 3
   },
   "file_extension": ".py",
   "mimetype": "text/x-python",
   "name": "python",
   "nbconvert_exporter": "python",
   "pygments_lexer": "ipython3",
   "version": "3.9.12"
  }
 },
 "nbformat": 4,
 "nbformat_minor": 5
}

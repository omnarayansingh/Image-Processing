{
 "cells": [
  {
   "cell_type": "code",
   "execution_count": 2,
   "id": "e8e78beb",
   "metadata": {},
   "outputs": [],
   "source": [
    "import cv2"
   ]
  },
  {
   "cell_type": "code",
   "execution_count": 3,
   "id": "0761d7e1",
   "metadata": {},
   "outputs": [
    {
     "name": "stdout",
     "output_type": "stream",
     "text": [
      "None\n"
     ]
    },
    {
     "ename": "error",
     "evalue": "OpenCV(4.6.0) D:\\a\\opencv-python\\opencv-python\\opencv\\modules\\highgui\\src\\window.cpp:967: error: (-215:Assertion failed) size.width>0 && size.height>0 in function 'cv::imshow'\n",
     "output_type": "error",
     "traceback": [
      "\u001b[1;31m---------------------------------------------------------------------------\u001b[0m",
      "\u001b[1;31merror\u001b[0m                                     Traceback (most recent call last)",
      "\u001b[1;32m~\\AppData\\Local\\Temp\\ipykernel_11756\\133803770.py\u001b[0m in \u001b[0;36m<module>\u001b[1;34m\u001b[0m\n\u001b[0;32m      2\u001b[0m \u001b[1;31m#img = cv2.resize(img, (1200,700))\u001b[0m\u001b[1;33m\u001b[0m\u001b[1;33m\u001b[0m\u001b[1;33m\u001b[0m\u001b[0m\n\u001b[0;32m      3\u001b[0m \u001b[0mprint\u001b[0m\u001b[1;33m(\u001b[0m\u001b[0mimg\u001b[0m\u001b[1;33m)\u001b[0m\u001b[1;33m\u001b[0m\u001b[1;33m\u001b[0m\u001b[0m\n\u001b[1;32m----> 4\u001b[1;33m \u001b[0mcv2\u001b[0m\u001b[1;33m.\u001b[0m\u001b[0mimshow\u001b[0m\u001b[1;33m(\u001b[0m\u001b[1;34m\"original\"\u001b[0m\u001b[1;33m,\u001b[0m\u001b[0mimg\u001b[0m\u001b[1;33m)\u001b[0m\u001b[1;33m\u001b[0m\u001b[1;33m\u001b[0m\u001b[0m\n\u001b[0m\u001b[0;32m      5\u001b[0m \u001b[0mcv2\u001b[0m\u001b[1;33m.\u001b[0m\u001b[0mwaitKey\u001b[0m\u001b[1;33m(\u001b[0m\u001b[1;36m3000\u001b[0m\u001b[1;33m)\u001b[0m\u001b[1;33m\u001b[0m\u001b[1;33m\u001b[0m\u001b[0m\n\u001b[0;32m      6\u001b[0m \u001b[0mcv2\u001b[0m\u001b[1;33m.\u001b[0m\u001b[0mdestroyAllWindows\u001b[0m\u001b[1;33m(\u001b[0m\u001b[1;33m)\u001b[0m\u001b[1;33m\u001b[0m\u001b[1;33m\u001b[0m\u001b[0m\n",
      "\u001b[1;31merror\u001b[0m: OpenCV(4.6.0) D:\\a\\opencv-python\\opencv-python\\opencv\\modules\\highgui\\src\\window.cpp:967: error: (-215:Assertion failed) size.width>0 && size.height>0 in function 'cv::imshow'\n"
     ]
    }
   ],
   "source": [
    "img = cv2.imread(r\"C:\\Users\\Lenovo\\Desktop\\img\\Honey\\daburhoney.jpg\")\n",
    "#img = cv2.resize(img, (1200,700))\n",
    "print(img)\n",
    "cv2.imshow(\"original\",img)\n",
    "cv2.waitKey(3000)\n",
    "cv2.destroyAllWindows()"
   ]
  },
  {
   "cell_type": "code",
   "execution_count": 18,
   "id": "63c14883",
   "metadata": {},
   "outputs": [
    {
     "name": "stdout",
     "output_type": "stream",
     "text": [
      "[[[212 167 133]\n",
      "  [211 166 132]\n",
      "  [206 161 127]\n",
      "  ...\n",
      "  [ 22  37  32]\n",
      "  [ 22  37  33]\n",
      "  [ 22  37  33]]\n",
      "\n",
      " [[211 166 132]\n",
      "  [211 166 132]\n",
      "  [206 161 127]\n",
      "  ...\n",
      "  [ 22  36  32]\n",
      "  [ 22  36  32]\n",
      "  [ 22  36  32]]\n",
      "\n",
      " [[211 166 132]\n",
      "  [210 165 131]\n",
      "  [205 160 126]\n",
      "  ...\n",
      "  [ 21  36  31]\n",
      "  [ 21  36  32]\n",
      "  [ 21  36  32]]\n",
      "\n",
      " ...\n",
      "\n",
      " [[ 76  74  80]\n",
      "  [ 76  74  80]\n",
      "  [ 76  74  80]\n",
      "  ...\n",
      "  [ 10  17  26]\n",
      "  [ 10  17  26]\n",
      "  [ 10  17  26]]\n",
      "\n",
      " [[ 75  73  78]\n",
      "  [ 75  73  78]\n",
      "  [ 75  73  78]\n",
      "  ...\n",
      "  [  8  13  23]\n",
      "  [  8  14  23]\n",
      "  [  8  14  23]]\n",
      "\n",
      " [[ 74  73  77]\n",
      "  [ 74  73  77]\n",
      "  [ 74  73  77]\n",
      "  ...\n",
      "  [  7  11  21]\n",
      "  [  7  12  21]\n",
      "  [  7  12  21]]]\n"
     ]
    }
   ],
   "source": [
    "img = cv2.imread(r\"C:\\Users\\Lenovo\\Desktop\\img\\Honey\\daburhoney.jpg\", 1)\n",
    "img = cv2.resize(img, (1200,700))\n",
    "print(img)\n",
    "cv2.imshow(\"original\",img)\n",
    "cv2.waitKey()\n",
    "cv2.destroyAllWindows()"
   ]
  },
  {
   "cell_type": "code",
   "execution_count": null,
   "id": "8524e267",
   "metadata": {},
   "outputs": [],
   "source": []
  }
 ],
 "metadata": {
  "kernelspec": {
   "display_name": "Python 3 (ipykernel)",
   "language": "python",
   "name": "python3"
  },
  "language_info": {
   "codemirror_mode": {
    "name": "ipython",
    "version": 3
   },
   "file_extension": ".py",
   "mimetype": "text/x-python",
   "name": "python",
   "nbconvert_exporter": "python",
   "pygments_lexer": "ipython3",
   "version": "3.9.12"
  }
 },
 "nbformat": 4,
 "nbformat_minor": 5
}

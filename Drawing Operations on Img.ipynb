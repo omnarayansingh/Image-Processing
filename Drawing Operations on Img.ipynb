{
 "cells": [
  {
   "cell_type": "code",
   "execution_count": 1,
   "id": "6af9b154",
   "metadata": {},
   "outputs": [],
   "source": [
    "import numpy as np\n",
    "import cv2"
   ]
  },
  {
   "cell_type": "code",
   "execution_count": 2,
   "id": "c6678db6",
   "metadata": {},
   "outputs": [
    {
     "name": "stdout",
     "output_type": "stream",
     "text": [
      "[13 13 13]\n"
     ]
    },
    {
     "data": {
      "text/plain": [
       "-1"
      ]
     },
     "execution_count": 2,
     "metadata": {},
     "output_type": "execute_result"
    }
   ],
   "source": [
    " v = cv2.imread(r\"v.jpg\")\n",
    "#cv2.imshow(\"window\", img)\n",
    "#cv2.imwrite(\"lo.jpg\", img)\n",
    "print(v[100,100])\n",
    "v[100,100] = [255,255,255]\n",
    "v[90,90] = [255,255,255]\n",
    "v[80,80] = [255,255,255]\n",
    "v[80,80] = [255,255,255]\n",
    "v[80,80] = [255,255,255]\n",
    "cv2.resize(v, (50,50))\n",
    "cv2.imshow(\"window\", v)\n",
    "cv2.waitKey(0)"
   ]
  },
  {
   "cell_type": "code",
   "execution_count": 21,
   "id": "1dba4d0a",
   "metadata": {},
   "outputs": [
    {
     "data": {
      "text/plain": [
       "-1"
      ]
     },
     "execution_count": 21,
     "metadata": {},
     "output_type": "execute_result"
    }
   ],
   "source": [
    "image = np.zeros((512,512,3), np.int8)\n",
    "s = cv2.circle(image,(206,206), 60 ,(255,244,255), 3)\n",
    "v = cv2.line(image, (0,0),(511,511),(255,0,0),3)\n",
    "font = cv2.FONT_HERSHEY_SIMPLEX\n",
    "p = cv2.putText(image, \"OpenCv\",(10,50), font, 2, (255,255,255),2)\n",
    "cv2.imshow(\"line\", p)\n",
    "cv2.imshow(\"line\", v)\n",
    "cv2.imshow(\"circle\", s)\n",
    "cv2.waitKey(0)"
   ]
  },
  {
   "cell_type": "code",
   "execution_count": 22,
   "id": "86c75f82",
   "metadata": {},
   "outputs": [],
   "source": [
    "def draw_circle(event,x,y,flags,params):\n",
    "    if event == cv.EVENT_LBUTTONDBLCLK:\n",
    "        cv2.cicle(img, (x,y),3,(255,0,0), -1)\n",
    "img = np.zeros((512,512,3), np.int8)"
   ]
  },
  {
   "cell_type": "code",
   "execution_count": 1,
   "id": "6efaceff",
   "metadata": {},
   "outputs": [],
   "source": [
    "import numpy as np\n",
    "import cv2 as cv\n",
    "from matplotlib import pyplot as plt"
   ]
  },
  {
   "cell_type": "code",
   "execution_count": 4,
   "id": "e3be3285",
   "metadata": {},
   "outputs": [
    {
     "data": {
      "text/plain": [
       "-1"
      ]
     },
     "execution_count": 4,
     "metadata": {},
     "output_type": "execute_result"
    }
   ],
   "source": [
    "img = cv.imread('v.jpg')\n",
    "kernel = np.ones((5,5),np.float32)/25\n",
    "dst = cv.filter2D(img,-1,kernel)\n",
    "cv.imshow(\"org\",img)\n",
    "cv.imshow(\"dst\", dst)\n",
    "cv.waitKey(0)"
   ]
  },
  {
   "cell_type": "code",
   "execution_count": null,
   "id": "b920e7ac",
   "metadata": {},
   "outputs": [],
   "source": []
  }
 ],
 "metadata": {
  "kernelspec": {
   "display_name": "Python 3 (ipykernel)",
   "language": "python",
   "name": "python3"
  },
  "language_info": {
   "codemirror_mode": {
    "name": "ipython",
    "version": 3
   },
   "file_extension": ".py",
   "mimetype": "text/x-python",
   "name": "python",
   "nbconvert_exporter": "python",
   "pygments_lexer": "ipython3",
   "version": "3.9.12"
  }
 },
 "nbformat": 4,
 "nbformat_minor": 5
}
